{
 "cells": [
  {
   "cell_type": "markdown",
   "metadata": {},
   "source": [
    "# Q1"
   ]
  },
  {
   "cell_type": "markdown",
   "metadata": {},
   "source": [
    " \"Think of at least three kinds of your favorite pizza. Store these pizza names in a list, and then use a for loop to print the name of each pizza.\""
   ]
  },
  {
   "cell_type": "code",
   "execution_count": 25,
   "metadata": {},
   "outputs": [
    {
     "name": "stdout",
     "output_type": "stream",
     "text": [
      "\t Pizza Flavours: \t\n",
      "\n",
      "\t* Fajita Sicilian\n",
      "\t* Chicken Supreme\n",
      "\t* Behari Chicken\n",
      "\t* Chicken Tikka\n"
     ]
    }
   ],
   "source": [
    "print(\"\\t Pizza Flavours: \\t\\n\")\n",
    "pizza = ['Fajita Sicilian','Chicken Supreme','Behari Chicken','Chicken Tikka']\n",
    "for a in pizza:\n",
    "    print(f'\\t* {a}')"
   ]
  },
  {
   "cell_type": "markdown",
   "metadata": {},
   "source": [
    "# Q2"
   ]
  },
  {
   "cell_type": "raw",
   "metadata": {},
   "source": [
    "\"Start with your last question , Modify your for loop to print a sentence using the name of the pizza\\n\",\n",
    "\"instead of printing just the name of the pizza. For each pizza you should\\n\",\n",
    "\"have one line of output containing a simple statement like I like pepperoni\\n\",\n",
    "\"pizza.\""
   ]
  },
  {
   "cell_type": "code",
   "execution_count": 26,
   "metadata": {},
   "outputs": [
    {
     "name": "stdout",
     "output_type": "stream",
     "text": [
      "\t Pizza Flavours: \t\n",
      "\n",
      "\t* I like Fajita Sicilian\n",
      "\t* I like Chicken Supreme\n",
      "\t* I like Behari Chicken\n",
      "\t* I like Chicken Tikka\n"
     ]
    }
   ],
   "source": [
    "print(\"\\t Pizza Flavours: \\t\\n\")\n",
    "pizza = ['Fajita Sicilian','Chicken Supreme','Behari Chicken','Chicken Tikka']\n",
    "for a in pizza:\n",
    "    print(f'\\t* I like {a}')"
   ]
  },
  {
   "cell_type": "markdown",
   "metadata": {},
   "source": [
    "# Q3"
   ]
  },
  {
   "cell_type": "raw",
   "metadata": {},
   "source": [
    "\"Use a for loop to print the numbers from 1 to 20,\\n\""
   ]
  },
  {
   "cell_type": "code",
   "execution_count": 31,
   "metadata": {},
   "outputs": [
    {
     "name": "stdout",
     "output_type": "stream",
     "text": [
      "1\n",
      "2\n",
      "3\n",
      "4\n",
      "5\n",
      "6\n",
      "7\n",
      "8\n",
      "9\n",
      "10\n",
      "11\n",
      "12\n",
      "13\n",
      "14\n",
      "15\n",
      "16\n",
      "17\n",
      "18\n",
      "19\n",
      "20\n"
     ]
    }
   ],
   "source": [
    "for i in range(1,21):\n",
    "    print(i)"
   ]
  },
  {
   "cell_type": "markdown",
   "metadata": {},
   "source": [
    "# Q4"
   ]
  },
  {
   "cell_type": "raw",
   "metadata": {},
   "source": [
    "\"Use the third argument of the range() function to make a list\\n\",\n",
    "\"of the odd numbers from 1 to 20. Use a for loop to print each number.\""
   ]
  },
  {
   "cell_type": "code",
   "execution_count": 64,
   "metadata": {},
   "outputs": [
    {
     "name": "stdout",
     "output_type": "stream",
     "text": [
      "1 3 5 7 9 11 13 15 17 19 "
     ]
    }
   ],
   "source": [
    "def Range():\n",
    "    odd_num = list(range(1,21,2))\n",
    "    for x in odd_num:\n",
    "        print(x, end = ' ')\n",
    "Range()"
   ]
  },
  {
   "cell_type": "markdown",
   "metadata": {},
   "source": [
    "# Q5"
   ]
  },
  {
   "cell_type": "raw",
   "metadata": {},
   "source": [
    "\"Make a list of the multiples of 3 from 3 to 30. Use a for loop to\\n\",\n",
    "\"print the numbers in your list.\""
   ]
  },
  {
   "cell_type": "code",
   "execution_count": 72,
   "metadata": {},
   "outputs": [
    {
     "name": "stdout",
     "output_type": "stream",
     "text": [
      "3\n",
      "6\n",
      "9\n",
      "12\n",
      "15\n",
      "18\n",
      "21\n",
      "24\n",
      "27\n",
      "30\n"
     ]
    }
   ],
   "source": [
    "multiply = list(range(3,31,3))\n",
    "for i in multiply:\n",
    "    print(i)"
   ]
  },
  {
   "cell_type": "markdown",
   "metadata": {},
   "source": [
    "# Q6"
   ]
  },
  {
   "cell_type": "raw",
   "metadata": {},
   "source": [
    "A number raised to the third power is called a cube. For example,\\n\",\n",
    "\"the cube of 2 is written as 2**3 in Python. Make a list of the first 10 cubes (that\\n\",\n",
    "\"is, the cube of each integer from 1 through 10), and use a for loop to print out\\n\",\n",
    "\"the value of each cube\""
   ]
  },
  {
   "cell_type": "code",
   "execution_count": 80,
   "metadata": {},
   "outputs": [
    {
     "name": "stdout",
     "output_type": "stream",
     "text": [
      "8 27 64 125 216 343 512 729 1000 "
     ]
    }
   ],
   "source": [
    "list = [2,3,4,5,6,7,8,9,10]\n",
    "for a in list:\n",
    "    y = a**3\n",
    "    print(y,end =' ')"
   ]
  },
  {
   "cell_type": "markdown",
   "metadata": {},
   "source": [
    "# Q7"
   ]
  },
  {
   "cell_type": "raw",
   "metadata": {},
   "source": [
    "\"###### Make a python program that conatains your nine favourite dishes in a list called foods.\\n\",\n",
    "    \"\\n\",\n",
    "\"###### Print the message, The first three items in the list are:. \\n\",\n",
    "\"###### Then use a slice to print the first three items from that program’s list.\\n\",\n",
    "    \"\\n\",\n",
    "\"###### Print the message, Three items from the middle of the list are:\\n\",\n",
    "\"###### Use a slice to print three items from the middle of the list.\\n\",\n",
    "    \"\\n\",\n",
    "\"###### Print the message, The last three items in the list are:"
   ]
  },
  {
   "cell_type": "code",
   "execution_count": 108,
   "metadata": {},
   "outputs": [
    {
     "name": "stdout",
     "output_type": "stream",
     "text": [
      "The first three items in the list are:       ['chicken burger', 'biryani', 'salad']\n",
      "Three items from the middle of the list are: ['chicken tikka', 'naan', 'coldrink']\n",
      "The last three items in the list are:        ['chinees', 'shaslake', 'ice-cream']\n"
     ]
    }
   ],
   "source": [
    "item = ['chicken burger','biryani','salad','chicken tikka','naan','coldrink','chinees','shaslake','ice-cream']\n",
    "print(f'The first three items in the list are:       {item[slice(0,3)]}')\n",
    "print(f'Three items from the middle of the list are: {item[slice(3,6)]}')\n",
    "print(f'The last three items in the list are:        {item[slice(6,9)]}')"
   ]
  },
  {
   "cell_type": "markdown",
   "metadata": {},
   "source": [
    "# Q8"
   ]
  },
  {
   "cell_type": "raw",
   "metadata": {},
   "source": [
    "Start with your program from your last Question8.¶\n",
    "Make a copy of the list of foods, and call it friend_foods.\n",
    "Then, do the following:\n",
    "Add a new dish to the original list.\n",
    "Add a different dish to the list friend_foodss.\n",
    "Prove that you have two separate lists.\n",
    "Print the message, My favorite pizzas are: and then use a for loop to print the first list.\n",
    "Print the message,\n",
    "My friend’s favorite foods are:, and then use a for loop to print the second list.\n",
    "NOTE: Make sure each new dish is stored in the appropriate list"
   ]
  },
  {
   "cell_type": "code",
   "execution_count": 140,
   "metadata": {},
   "outputs": [
    {
     "name": "stdout",
     "output_type": "stream",
     "text": [
      "***My favorite food are***\n",
      "\t*chicken burger \n",
      "\t*biryani \n",
      "\t*salad \n",
      "\t*chicken tikka \n",
      "\t*naan \n",
      "\t*coldrink \n",
      "\t*chinees \n",
      "\t*shaslake \n",
      "\t*ice-cream \n"
     ]
    }
   ],
   "source": [
    "friend_food = item.copy()\n",
    "friend_food.append('White Chicken Karahi')\n",
    "friend_food.append('Pizza')\n",
    "print (\"***My favorite food are***\")\n",
    "for x in item:\n",
    "    print(f'\\t*{x}',end = ' \\n')        "
   ]
  },
  {
   "cell_type": "code",
   "execution_count": 143,
   "metadata": {},
   "outputs": [
    {
     "name": "stdout",
     "output_type": "stream",
     "text": [
      "***My friend favorite food are***\n",
      "\t*chicken burger \n",
      "\t*biryani \n",
      "\t*salad \n",
      "\t*chicken tikka \n",
      "\t*naan \n",
      "\t*coldrink \n",
      "\t*chinees \n",
      "\t*shaslake \n",
      "\t*ice-cream \n",
      "\t*White Chicken Karahi \n",
      "\t*Pizza \n"
     ]
    }
   ],
   "source": [
    "print (\"***My friend favorite food are***\")\n",
    "for y in friend_food:\n",
    "    print(f'\\t*{y}',end = ' \\n') "
   ]
  },
  {
   "cell_type": "markdown",
   "metadata": {},
   "source": [
    "# Q9"
   ]
  },
  {
   "cell_type": "raw",
   "metadata": {},
   "source": [
    "Take a user input from console line.Store it in a variable called Alien_color.\n",
    "If the alien’s color is red, print a statement that the player just earned 5 points for shooting the alien.\n",
    "If the alien’s color isn’t green, print a statement that the player just earned 10 points.\n",
    "If the alien's color isn't red or green , print a statment :, Alien is no more....."
   ]
  },
  {
   "cell_type": "code",
   "execution_count": 8,
   "metadata": {},
   "outputs": [
    {
     "name": "stdout",
     "output_type": "stream",
     "text": [
      "Enter the Allien Color: Red\n",
      "the player just earned 5 points for shooting the alien.\n"
     ]
    }
   ],
   "source": [
    "Alien_color = input(\"Enter the Allien Color: \")\n",
    "if Alien_color == \"Red\":\n",
    "    print(\"the player just earned 5 points for shooting the alien.\")\n",
    "elif Alien_color != \"green\":\n",
    "    print(\"the player just earned 10 points.\")\n",
    "else:\n",
    "    print(\"Alien is no more.....\")"
   ]
  },
  {
   "cell_type": "markdown",
   "metadata": {},
   "source": [
    "# Q10"
   ]
  },
  {
   "cell_type": "raw",
   "metadata": {},
   "source": [
    "Write an if-elif-else chain that determines a person’s stage of life. Set a value for the variable age, and then:\n",
    "• If the person is less than 2 years old, print a message that the person is a baby.\n",
    "• If the person is at least 2 years old but less than 4, print a message that the person is a toddler.\n",
    "• If the person is at least 4 years old but less than 13, print a message that the person is a kid.\n",
    "• If the person is at least 13 years old but less than 20, print a message that the person is a teenager.\n",
    "• If the person is at least 20 years old but less than 65, print a message that the person is an adult.\n",
    "• If the person is age 65 or older, print a message that the person is an elder."
   ]
  },
  {
   "cell_type": "code",
   "execution_count": 2,
   "metadata": {},
   "outputs": [
    {
     "name": "stdout",
     "output_type": "stream",
     "text": [
      "Enter person age:  1\n",
      "That the person is baby\n"
     ]
    }
   ],
   "source": [
    "age = int(input(\"Enter person age:  \"))\n",
    "if age < 2:\n",
    "          print(\"That the person is baby\")\n",
    "elif age >= 2 or age < 4:\n",
    "          print(\"That the person is a tooddler\")\n",
    "elif age >= 4 or age < 13:\n",
    "          print(\"That the person is a kid\")\n",
    "elif age >= 13 or age < 20:\n",
    "          print(\"That the person is a teenager\")\n",
    "elif age >= 20 or age < 65:\n",
    "          print(\"That the person is an adult\")\n",
    "else:\n",
    "          print(\"That the person is an elder\")\n",
    "    "
   ]
  },
  {
   "cell_type": "markdown",
   "metadata": {},
   "source": [
    "# Q11"
   ]
  },
  {
   "cell_type": "raw",
   "metadata": {},
   "source": [
    "Do the following to create a program that simulates how websites ensure that everyone has a unique username.\n",
    "• Make a list of five or more usernames called current_users.\n",
    "• Make another list of five usernames called new_users. Make sure one or two of the new usernames are also in the current_users list.\n",
    "• Loop through the new_users list to see if each new username has already been used. If it has, print a message that the person will need to enter a new username. If a username has not been used, print a message saying that the username is available.\n",
    "• Make sure your comparison is case insensitive. If 'John' has been used, 'JOHN' should not be accepted."
   ]
  },
  {
   "cell_type": "code",
   "execution_count": 13,
   "metadata": {},
   "outputs": [
    {
     "name": "stdout",
     "output_type": "stream",
     "text": [
      " 'Zaid' user name already exit please enter a new user name\n",
      " 'Umer' user name already exit please enter a new user name\n",
      " 'Shahriyar' user name already exit please enter a new user name\n",
      "  Asad the username is available.\n",
      "  Ayan the username is available.\n"
     ]
    }
   ],
   "source": [
    "user = input(\"Enter user name: \")\n",
    "current_user = ['Zaid','Fahad','Umer','Shahriyar','Saad']\n",
    "new_user = ['Zaid','Umer','Shahriyar','Asad','Ayan']\n",
    "for a in new_user:\n",
    "    if a in current_user:\n",
    "        print(f\" '{a}' user name already exit please enter a new user name\")\n",
    "    else:\n",
    "         print(f\"  {a} the username is available.\")"
   ]
  },
  {
   "cell_type": "markdown",
   "metadata": {},
   "source": [
    "# Q12"
   ]
  },
  {
   "cell_type": "raw",
   "metadata": {},
   "source": [
    "Use a dictionary to store information about a person you know. Store their first name, last name, age, and the city in which they live. You should have keys such as first_name, last_name, age, and city. Print each piece of information stored in your dictionary"
   ]
  },
  {
   "cell_type": "code",
   "execution_count": 85,
   "metadata": {},
   "outputs": [
    {
     "name": "stdout",
     "output_type": "stream",
     "text": [
      "First_name: Muniba\n",
      "Last_name: Javaid\n",
      "Age: 20\n",
      "City: Karachi\n"
     ]
    }
   ],
   "source": [
    "adict = {\"First_name\": \"Muniba\",\"Last_name\":  \"Javaid\",\"Age\": \"20\", \"City\": \"Karachi\"}\n",
    "\n",
    "for key, value in adict.items():\n",
    "     print(key + \": \" + value)"
   ]
  },
  {
   "cell_type": "markdown",
   "metadata": {},
   "source": [
    "# Q13"
   ]
  },
  {
   "cell_type": "raw",
   "metadata": {},
   "source": [
    "Starts with your last question 12 , loop through the dictionary’s keys and values. When you’re sure that your loop works, add five more Python terms to your dictionary . When you run your program again, these new words and meanings should automatically be included in the output."
   ]
  },
  {
   "cell_type": "code",
   "execution_count": 86,
   "metadata": {},
   "outputs": [
    {
     "name": "stdout",
     "output_type": "stream",
     "text": [
      "First_name: Muniba\n",
      "Last_name: Javaid\n",
      "Age: 20\n",
      "City: Karachi\n",
      "Function: Use for code reusability\n",
      "loop: multiple line of code run\n",
      "if: condition\n",
      "break: to stop a loop\n",
      "else: other condition\n"
     ]
    }
   ],
   "source": [
    "adict[\"Function\"] = \"Use for code reusability\"\n",
    "adict[\"loop\"] = \"multiple line of code run\"\n",
    "adict[\"if\"] = \"condition\"\n",
    "adict[\"break\"] = \"to stop a loop\"\n",
    "adict[\"else\"] = \"other condition\"\n",
    "\n",
    "for key, value in adict.items():\n",
    "    print(key + \": \" + value)\n",
    "    \n",
    "    "
   ]
  },
  {
   "cell_type": "markdown",
   "metadata": {},
   "source": [
    "# Q14"
   ]
  },
  {
   "cell_type": "raw",
   "metadata": {},
   "source": [
    "Make a dictionary containing three major rivers and the country each river runs through. One key-value pair might be 'nile': 'egypt'.\n",
    "• Use a loop to print a sentence about each river, such as The Nile runs through Egypt.\n",
    "NOTE: use upper case through keys and values."
   ]
  },
  {
   "cell_type": "code",
   "execution_count": 95,
   "metadata": {},
   "outputs": [
    {
     "name": "stdout",
     "output_type": "stream",
     "text": [
      "key:    Nelum\n",
      "Value:  Pakistan\n",
      "key:    Ganga\n",
      "Value:  India\n",
      "key:    Kabul\n",
      "Value:  Afghanistan\n"
     ]
    }
   ],
   "source": [
    "river = {'Nelum': 'Pakistan','Ganga':'India','Kabul':'Afghanistan'}\n",
    "for key, value in river.items():\n",
    "    print (\"key:   \",key)\n",
    "    print (\"Value: \",value)\n"
   ]
  },
  {
   "cell_type": "markdown",
   "metadata": {},
   "source": [
    "# Q15"
   ]
  },
  {
   "cell_type": "raw",
   "metadata": {},
   "source": [
    "Make several dictionaries, where the name of each dictionary is the name of a pet. In each dictionary, include the kind of animal and the owner’s name. Store these dictionaries in a list called pets. Next, loop through your list and as you do print everything you know about each pet."
   ]
  },
  {
   "cell_type": "code",
   "execution_count": null,
   "metadata": {},
   "outputs": [],
   "source": [
    "dog = {}"
   ]
  },
  {
   "cell_type": "code",
   "execution_count": null,
   "metadata": {},
   "outputs": [],
   "source": []
  },
  {
   "cell_type": "code",
   "execution_count": null,
   "metadata": {},
   "outputs": [],
   "source": []
  },
  {
   "cell_type": "code",
   "execution_count": null,
   "metadata": {},
   "outputs": [],
   "source": []
  }
 ],
 "metadata": {
  "kernelspec": {
   "display_name": "Python 3",
   "language": "python",
   "name": "python3"
  },
  "language_info": {
   "codemirror_mode": {
    "name": "ipython",
    "version": 3
   },
   "file_extension": ".py",
   "mimetype": "text/x-python",
   "name": "python",
   "nbconvert_exporter": "python",
   "pygments_lexer": "ipython3",
   "version": "3.7.3"
  }
 },
 "nbformat": 4,
 "nbformat_minor": 2
}
